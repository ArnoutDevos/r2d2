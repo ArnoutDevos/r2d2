{
 "cells": [
  {
   "cell_type": "code",
   "execution_count": 6,
   "metadata": {},
   "outputs": [],
   "source": [
    "import pandas as pd\n",
    "import matplotlib.pyplot as plt\n",
    "%matplotlib inline\n"
   ]
  },
  {
   "cell_type": "code",
   "execution_count": 32,
   "metadata": {},
   "outputs": [
    {
     "data": {
      "image/png": "[encoded data removed]",
      "text/plain": [
       "<Figure size 432x288 with 1 Axes>"
      ]
     },
     "metadata": {},
     "output_type": "display_data"
    }
   ],
   "source": [
    "df = pd.DataFrame([['MAML code','5-way 1-shot',47.6],\n",
    "                   ['MAML code','5-way 5-shot',62.3],\n",
    "                   ['MAML code','2-way 1-shot',78.8],\n",
    "                   ['MAML code','2-way 5-shot',82.6],\n",
    "                   ['MAML paper','5-way 1-shot',47.6],\n",
    "                   ['MAML paper','5-way 5-shot',62.3],\n",
    "                   ['MAML paper','2-way 1-shot',78.8],\n",
    "                   ['MAML paper','2-way 5-shot',82.6],\n",
    "                   ['our R2D2*','5-way 1-shot',46.7],\n",
    "                   ['our R2D2*','5-way 5-shot',63.7],\n",
    "                   ['our R2D2*','2-way 1-shot',72.8],\n",
    "                   ['our R2D2*','2-way 5-shot',83.9],\n",
    "                   ['our R2D2','5-way 1-shot',51.7],\n",
    "                   ['our R2D2','5-way 5-shot',63.3],\n",
    "                   ['our R2D2','2-way 1-shot',74.6],\n",
    "                   ['our R2D2','2-way 5-shot',84.6],\n",
    "                   ['R2D2 paper','5-way 1-shot',51.5],\n",
    "                   ['R2D2 paper','5-way 5-shot',68.8],\n",
    "                   ['R2D2 paper','2-way 1-shot',76.7],\n",
    "                   ['R2D2 paper','2-way 5-shot',86.8]],columns=['group','column','val'])\n",
    "\n",
    "df.pivot(\"column\", \"group\", \"val\").plot(kind='bar', rot=0,ylim=(40,100))\n",
    "\n",
    "plt.show()"
   ]
  },
  {
   "cell_type": "code",
   "execution_count": null,
   "metadata": {},
   "outputs": [],
   "source": []
  }
 ],
 "metadata": {
  "kernelspec": {
   "display_name": "Python 3",
   "language": "python",
   "name": "python3"
  },
  "language_info": {
   "codemirror_mode": {
    "name": "ipython",
    "version": 3
   },
   "file_extension": ".py",
   "mimetype": "text/x-python",
   "name": "python",
   "nbconvert_exporter": "python",
   "pygments_lexer": "ipython3",
   "version": "3.6.2"
  }
 },
 "nbformat": 4,
 "nbformat_minor": 2
}
