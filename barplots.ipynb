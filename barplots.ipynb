{
 "cells": [
  {
   "cell_type": "code",
   "execution_count": 6,
   "metadata": {},
   "outputs": [],
   "source": [
    "import pandas as pd\n",
    "import matplotlib.pyplot as plt\n",
    "%matplotlib inline\n"
   ]
  },
  {
   "cell_type": "code",
   "execution_count": 58,
   "metadata": {},
   "outputs": [],
   "source": [
    "df = pd.DataFrame([['MAML code','5-way 1-shot',47.6],\n",
    "                   ['MAML code','5-way 5-shot',62.3],\n",
    "                   ['MAML code','2-way 1-shot',78.8],\n",
    "                   ['MAML code','2-way 5-shot',82.6],\n",
    "                   ['MAML paper','5-way 1-shot',48.7],\n",
    "                   ['MAML paper','5-way 5-shot',63.1],\n",
    "                   ['MAML paper','2-way 1-shot',74.9],\n",
    "                   ['MAML paper','2-way 5-shot',84.4],\n",
    "                   ['our R2D2*','5-way 1-shot',46.7],\n",
    "                   ['our R2D2*','5-way 5-shot',63.7],\n",
    "                   ['our R2D2*','2-way 1-shot',72.8],\n",
    "                   ['our R2D2*','2-way 5-shot',83.9],\n",
    "                   ['our R2D2','5-way 1-shot',51.7],\n",
    "                   ['our R2D2','5-way 5-shot',63.3],\n",
    "                   ['our R2D2','2-way 1-shot',74.6],\n",
    "                   ['our R2D2','2-way 5-shot',86.8],\n",
    "                   ['R2D2 paper','5-way 1-shot',51.5],\n",
    "                   ['R2D2 paper','5-way 5-shot',68.8],\n",
    "                   ['R2D2 paper','2-way 1-shot',76.7],\n",
    "                   ['R2D2 paper','2-way 5-shot',86.8]],columns=['code','wayshot','val'])\n",
    "\n",
    "order = ['MAML code', 'MAML paper', 'our R2D2*','our R2D2','R2D2 paper']\n",
    "\n"
   ]
  },
  {
   "cell_type": "code",
   "execution_count": 68,
   "metadata": {},
   "outputs": [
    {
     "data": {
      "text/html": [
       "<div>\n",
       "<style scoped>\n",
       "    .dataframe tbody tr th:only-of-type {\n",
       "        vertical-align: middle;\n",
       "    }\n",
       "\n",
       "    .dataframe tbody tr th {\n",
       "        vertical-align: top;\n",
       "    }\n",
       "\n",
       "    .dataframe thead th {\n",
       "        text-align: right;\n",
       "    }\n",
       "</style>\n",
       "<table border=\"1\" class=\"dataframe\">\n",
       "  <thead>\n",
       "    <tr style=\"text-align: right;\">\n",
       "      <th>code</th>\n",
       "      <th>MAML code</th>\n",
       "      <th>MAML paper</th>\n",
       "      <th>our R2D2*</th>\n",
       "      <th>our R2D2</th>\n",
       "      <th>R2D2 paper</th>\n",
       "    </tr>\n",
       "    <tr>\n",
       "      <th>wayshot</th>\n",
       "      <th></th>\n",
       "      <th></th>\n",
       "      <th></th>\n",
       "      <th></th>\n",
       "      <th></th>\n",
       "    </tr>\n",
       "  </thead>\n",
       "  <tbody>\n",
       "    <tr>\n",
       "      <th>5-way 1-shot</th>\n",
       "      <td>47.6</td>\n",
       "      <td>48.7</td>\n",
       "      <td>46.7</td>\n",
       "      <td>51.7</td>\n",
       "      <td>51.5</td>\n",
       "    </tr>\n",
       "    <tr>\n",
       "      <th>5-way 5-shot</th>\n",
       "      <td>62.3</td>\n",
       "      <td>63.1</td>\n",
       "      <td>63.7</td>\n",
       "      <td>63.3</td>\n",
       "      <td>68.8</td>\n",
       "    </tr>\n",
       "    <tr>\n",
       "      <th>2-way 1-shot</th>\n",
       "      <td>78.8</td>\n",
       "      <td>74.9</td>\n",
       "      <td>72.8</td>\n",
       "      <td>74.6</td>\n",
       "      <td>76.7</td>\n",
       "    </tr>\n",
       "    <tr>\n",
       "      <th>2-way 5-shot</th>\n",
       "      <td>82.6</td>\n",
       "      <td>84.4</td>\n",
       "      <td>83.9</td>\n",
       "      <td>86.8</td>\n",
       "      <td>86.8</td>\n",
       "    </tr>\n",
       "  </tbody>\n",
       "</table>\n",
       "</div>"
      ],
      "text/plain": [
       "code          MAML code  MAML paper  our R2D2*  our R2D2  R2D2 paper\n",
       "wayshot                                                             \n",
       "5-way 1-shot       47.6        48.7       46.7      51.7        51.5\n",
       "5-way 5-shot       62.3        63.1       63.7      63.3        68.8\n",
       "2-way 1-shot       78.8        74.9       72.8      74.6        76.7\n",
       "2-way 5-shot       82.6        84.4       83.9      86.8        86.8"
      ]
     },
     "execution_count": 68,
     "metadata": {},
     "output_type": "execute_result"
    }
   ],
   "source": [
    "dfp = df.pivot(\"wayshot\", \"code\", \"val\")\n",
    "dfplot = dfp[['MAML code', 'MAML paper', 'our R2D2*','our R2D2','R2D2 paper']]\n",
    "dfplot = dfplot.reindex(['5-way 1-shot', '5-way 5-shot', '2-way 1-shot','2-way 5-shot'])\n",
    "dfplot"
   ]
  },
  {
   "cell_type": "code",
   "execution_count": 115,
   "metadata": {},
   "outputs": [
    {
     "data": {
      "image/png": "[encoded data removed]",
      "text/plain": [
       "<Figure size 1080x288 with 1 Axes>"
      ]
     },
     "metadata": {},
     "output_type": "display_data"
    }
   ],
   "source": [
    "from itertools import cycle, islice\n",
    "#my_colors = list(islice(cycle(['b','r','y','g','y']), None, len(dfplot)))\n",
    "\n",
    "#plotz = dfplot.plot(kind='bar', rot=0,ylim=(40,100), grid=True, width=0.7, figsize=(15,3), color=my_colors)\n",
    "plotz = dfplot.plot(kind='bar', rot=0,ylim=(40,100), grid=True, width=0.7, figsize=(15,4), color=tuple([\"dodgerblue\", \"gray\",\"red\",\"coral\",\"k\"]))\n",
    "plotz.set_xlabel(\"miniImageNet few-shot results\")\n",
    "plotz.set_ylabel(\"accuracy (%)\")\n",
    "for p in plotz.patches:\n",
    "    plotz.annotate(str(p.get_height()), (p.get_x() * 1.01, p.get_height() * 1.01))\n",
    "\n",
    "plt.show()"
   ]
  },
  {
   "cell_type": "code",
   "execution_count": 53,
   "metadata": {},
   "outputs": [
    {
     "data": {
      "text/html": [
       "<div>\n",
       "<style scoped>\n",
       "    .dataframe tbody tr th:only-of-type {\n",
       "        vertical-align: middle;\n",
       "    }\n",
       "\n",
       "    .dataframe tbody tr th {\n",
       "        vertical-align: top;\n",
       "    }\n",
       "\n",
       "    .dataframe thead th {\n",
       "        text-align: right;\n",
       "    }\n",
       "</style>\n",
       "<table border=\"1\" class=\"dataframe\">\n",
       "  <thead>\n",
       "    <tr style=\"text-align: right;\">\n",
       "      <th>group</th>\n",
       "      <th>MAML code</th>\n",
       "      <th>MAML paper</th>\n",
       "      <th>R2D2 paper</th>\n",
       "      <th>our R2D2</th>\n",
       "      <th>our R2D2*</th>\n",
       "    </tr>\n",
       "    <tr>\n",
       "      <th>column</th>\n",
       "      <th></th>\n",
       "      <th></th>\n",
       "      <th></th>\n",
       "      <th></th>\n",
       "      <th></th>\n",
       "    </tr>\n",
       "  </thead>\n",
       "  <tbody>\n",
       "    <tr>\n",
       "      <th>2-way 1-shot</th>\n",
       "      <td>78.8</td>\n",
       "      <td>74.9</td>\n",
       "      <td>76.7</td>\n",
       "      <td>74.6</td>\n",
       "      <td>72.8</td>\n",
       "    </tr>\n",
       "    <tr>\n",
       "      <th>2-way 5-shot</th>\n",
       "      <td>82.6</td>\n",
       "      <td>84.4</td>\n",
       "      <td>86.8</td>\n",
       "      <td>86.8</td>\n",
       "      <td>83.9</td>\n",
       "    </tr>\n",
       "    <tr>\n",
       "      <th>5-way 1-shot</th>\n",
       "      <td>47.6</td>\n",
       "      <td>48.7</td>\n",
       "      <td>51.5</td>\n",
       "      <td>51.7</td>\n",
       "      <td>46.7</td>\n",
       "    </tr>\n",
       "    <tr>\n",
       "      <th>5-way 5-shot</th>\n",
       "      <td>62.3</td>\n",
       "      <td>63.1</td>\n",
       "      <td>68.8</td>\n",
       "      <td>63.3</td>\n",
       "      <td>63.7</td>\n",
       "    </tr>\n",
       "  </tbody>\n",
       "</table>\n",
       "</div>"
      ],
      "text/plain": [
       "group         MAML code  MAML paper  R2D2 paper  our R2D2  our R2D2*\n",
       "column                                                              \n",
       "2-way 1-shot       78.8        74.9        76.7      74.6       72.8\n",
       "2-way 5-shot       82.6        84.4        86.8      86.8       83.9\n",
       "5-way 1-shot       47.6        48.7        51.5      51.7       46.7\n",
       "5-way 5-shot       62.3        63.1        68.8      63.3       63.7"
      ]
     },
     "execution_count": 53,
     "metadata": {},
     "output_type": "execute_result"
    }
   ],
   "source": [
    "df.pivot(\"column\", \"group\", \"val\")"
   ]
  },
  {
   "cell_type": "code",
   "execution_count": 38,
   "metadata": {},
   "outputs": [],
   "source": [
    "\n"
   ]
  },
  {
   "cell_type": "code",
   "execution_count": null,
   "metadata": {},
   "outputs": [],
   "source": []
  },
  {
   "cell_type": "code",
   "execution_count": 47,
   "metadata": {},
   "outputs": [],
   "source": []
  },
  {
   "cell_type": "code",
   "execution_count": null,
   "metadata": {},
   "outputs": [],
   "source": []
  },
  {
   "cell_type": "code",
   "execution_count": null,
   "metadata": {},
   "outputs": [],
   "source": []
  },
  {
   "cell_type": "code",
   "execution_count": null,
   "metadata": {},
   "outputs": [],
   "source": []
  }
 ],
 "metadata": {
  "kernelspec": {
   "display_name": "Python 3",
   "language": "python",
   "name": "python3"
  },
  "language_info": {
   "codemirror_mode": {
    "name": "ipython",
    "version": 3
   },
   "file_extension": ".py",
   "mimetype": "text/x-python",
   "name": "python",
   "nbconvert_exporter": "python",
   "pygments_lexer": "ipython3",
   "version": "3.6.2"
  }
 },
 "nbformat": 4,
 "nbformat_minor": 2
}
